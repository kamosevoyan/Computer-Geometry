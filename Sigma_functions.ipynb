{
 "cells": [
  {
   "cell_type": "code",
   "execution_count": 3,
   "id": "381cfee4",
   "metadata": {},
   "outputs": [],
   "source": [
    "import numpy\n",
    "import matplotlib.pyplot as plt"
   ]
  },
  {
   "cell_type": "markdown",
   "id": "2ff2ad87",
   "metadata": {},
   "source": [
    "# $\\sigma_{m}\\left(r, t\\right)=\\left(max\\left[0, r-t\\right]\\right)^{m}$"
   ]
  },
  {
   "cell_type": "code",
   "execution_count": 39,
   "id": "d885e42f",
   "metadata": {},
   "outputs": [],
   "source": [
    "def sigma(m, r, t=0):\n",
    "    \n",
    "    zeros = numpy.zeros(r.shape[0])\n",
    "    \n",
    "    return numpy.maximum(r - t, zeros)**m"
   ]
  },
  {
   "cell_type": "code",
   "execution_count": 20,
   "id": "a93ae838",
   "metadata": {},
   "outputs": [],
   "source": [
    "x = numpy.linspace(-3, 3)"
   ]
  },
  {
   "cell_type": "code",
   "execution_count": 42,
   "id": "ebf868c5",
   "metadata": {},
   "outputs": [],
   "source": [
    "y = sigma(3, x)"
   ]
  },
  {
   "cell_type": "code",
   "execution_count": 45,
   "id": "432a9ec8",
   "metadata": {},
   "outputs": [
    {
     "data": {
      "image/png": "[encoded data removed]",
      "text/plain": [
       "<Figure size 432x288 with 1 Axes>"
      ]
     },
     "metadata": {
      "needs_background": "light"
     },
     "output_type": "display_data"
    }
   ],
   "source": [
    "plt.plot(x, y)\n",
    "plt.show()"
   ]
  }
 ],
 "metadata": {
  "kernelspec": {
   "display_name": "Python 3 (ipykernel)",
   "language": "python",
   "name": "python3"
  },
  "language_info": {
   "codemirror_mode": {
    "name": "ipython",
    "version": 3
   },
   "file_extension": ".py",
   "mimetype": "text/x-python",
   "name": "python",
   "nbconvert_exporter": "python",
   "pygments_lexer": "ipython3",
   "version": "3.9.12"
  }
 },
 "nbformat": 4,
 "nbformat_minor": 5
}
